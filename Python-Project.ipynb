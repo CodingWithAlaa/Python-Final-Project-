{
 "cells": [
  {
   "cell_type": "code",
   "execution_count": null,
   "id": "cc360e6d-7cb6-4c09-9e81-b81f36475871",
   "metadata": {},
   "outputs": [],
   "source": []
  }
 ],
 "metadata": {
  "kernelspec": {
   "display_name": "",
   "name": ""
  },
  "language_info": {
   "name": ""
  }
 },
 "nbformat": 4,
 "nbformat_minor": 5
}
